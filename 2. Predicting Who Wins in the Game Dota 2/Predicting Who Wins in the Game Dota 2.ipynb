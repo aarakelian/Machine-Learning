{
 "cells": [
  {
   "cell_type": "markdown",
   "metadata": {},
   "source": [
    "Import Libraries"
   ]
  },
  {
   "cell_type": "code",
   "execution_count": 1,
   "metadata": {
    "collapsed": true
   },
   "outputs": [],
   "source": [
    "import pandas as pd\n",
    "import numpy as np\n",
    "from sklearn.model_selection import KFold\n",
    "from sklearn.ensemble import GradientBoostingClassifier\n",
    "from sklearn.linear_model import LogisticRegression\n",
    "from sklearn.model_selection import cross_val_score\n",
    "from sklearn.preprocessing import StandardScaler"
   ]
  },
  {
   "cell_type": "markdown",
   "metadata": {},
   "source": [
    "Import Train and Test Data"
   ]
  },
  {
   "cell_type": "code",
   "execution_count": 2,
   "metadata": {
    "collapsed": true
   },
   "outputs": [],
   "source": [
    "data = pd.read_csv('./features.csv', index_col='match_id')\n",
    "test_data = pd.read_csv('./features_test.csv', index_col='match_id')"
   ]
  },
  {
   "cell_type": "markdown",
   "metadata": {},
   "source": [
    "From Train Data delete columns that are absent in the Test Data (except the target column)"
   ]
  },
  {
   "cell_type": "code",
   "execution_count": 3,
   "metadata": {
    "collapsed": false
   },
   "outputs": [
    {
     "data": {
      "text/plain": [
       "{'barracks_status_dire',\n",
       " 'barracks_status_radiant',\n",
       " 'duration',\n",
       " 'radiant_win',\n",
       " 'tower_status_dire',\n",
       " 'tower_status_radiant'}"
      ]
     },
     "execution_count": 3,
     "metadata": {},
     "output_type": "execute_result"
    }
   ],
   "source": [
    "set(data) - set(test_data)"
   ]
  },
  {
   "cell_type": "code",
   "execution_count": 4,
   "metadata": {
    "collapsed": true
   },
   "outputs": [],
   "source": [
    "for var in (set(data) - set(test_data)):\n",
    "    if var!='radiant_win':\n",
    "        del data[var]"
   ]
  },
  {
   "cell_type": "markdown",
   "metadata": {},
   "source": [
    "Create a List of Variables with Missing Values"
   ]
  },
  {
   "cell_type": "code",
   "execution_count": 5,
   "metadata": {
    "collapsed": true
   },
   "outputs": [],
   "source": [
    "missing = []\n",
    "for var in data:\n",
    "    if data[var].count()<97230:\n",
    "        missing.append(var)"
   ]
  },
  {
   "cell_type": "code",
   "execution_count": 6,
   "metadata": {
    "collapsed": false
   },
   "outputs": [
    {
     "data": {
      "text/plain": [
       "['first_blood_time',\n",
       " 'first_blood_team',\n",
       " 'first_blood_player1',\n",
       " 'first_blood_player2',\n",
       " 'radiant_bottle_time',\n",
       " 'radiant_courier_time',\n",
       " 'radiant_flying_courier_time',\n",
       " 'radiant_first_ward_time',\n",
       " 'dire_bottle_time',\n",
       " 'dire_courier_time',\n",
       " 'dire_flying_courier_time',\n",
       " 'dire_first_ward_time']"
      ]
     },
     "execution_count": 6,
     "metadata": {},
     "output_type": "execute_result"
    }
   ],
   "source": [
    "missing"
   ]
  },
  {
   "cell_type": "markdown",
   "metadata": {},
   "source": [
    "Substitute Missing Values with 0"
   ]
  },
  {
   "cell_type": "code",
   "execution_count": 8,
   "metadata": {
    "collapsed": true
   },
   "outputs": [],
   "source": [
    "data.fillna(0, inplace=True)"
   ]
  },
  {
   "cell_type": "markdown",
   "metadata": {},
   "source": [
    "Target Variable"
   ]
  },
  {
   "cell_type": "code",
   "execution_count": 9,
   "metadata": {
    "collapsed": true
   },
   "outputs": [],
   "source": [
    "y = data['radiant_win']"
   ]
  },
  {
   "cell_type": "code",
   "execution_count": 10,
   "metadata": {
    "collapsed": true
   },
   "outputs": [],
   "source": [
    "X = data.loc[:, data.columns!='radiant_win']"
   ]
  },
  {
   "cell_type": "markdown",
   "metadata": {},
   "source": [
    "Cross-Validation Splits Generator"
   ]
  },
  {
   "cell_type": "code",
   "execution_count": 11,
   "metadata": {
    "collapsed": true
   },
   "outputs": [],
   "source": [
    "kf = KFold(n_splits=5, shuffle=True)"
   ]
  },
  {
   "cell_type": "markdown",
   "metadata": {},
   "source": [
    "Model 1: Gradient Boosting Classifier"
   ]
  },
  {
   "cell_type": "code",
   "execution_count": 14,
   "metadata": {
    "collapsed": true
   },
   "outputs": [],
   "source": [
    "trees = [5, 10, 15, 20, 25, 30, 50]"
   ]
  },
  {
   "cell_type": "code",
   "execution_count": 15,
   "metadata": {
    "collapsed": false
   },
   "outputs": [
    {
     "name": "stdout",
     "output_type": "stream",
     "text": [
      "      Iter       Train Loss   Remaining Time \n",
      "         1           1.3785            2.33s\n",
      "         2           1.3728            1.77s\n",
      "         3           1.3678            1.18s\n",
      "         4           1.3631            0.59s\n",
      "         5           1.3581            0.00s\n",
      "      Iter       Train Loss   Remaining Time \n",
      "         1           1.3784            2.31s\n",
      "         2           1.3728            1.77s\n",
      "         3           1.3678            1.19s\n",
      "         4           1.3633            0.60s\n",
      "         5           1.3588            0.00s\n",
      "      Iter       Train Loss   Remaining Time \n",
      "         1           1.3786            2.28s\n",
      "         2           1.3730            1.78s\n",
      "         3           1.3679            1.19s\n",
      "         4           1.3635            0.62s\n",
      "         5           1.3586            0.00s\n",
      "      Iter       Train Loss   Remaining Time \n",
      "         1           1.3786            2.72s\n",
      "         2           1.3730            1.95s\n",
      "         3           1.3679            1.27s\n",
      "         4           1.3633            0.63s\n",
      "         5           1.3589            0.00s\n",
      "      Iter       Train Loss   Remaining Time \n",
      "         1           1.3786            2.32s\n",
      "         2           1.3730            1.96s\n",
      "         3           1.3681            1.34s\n",
      "         4           1.3637            0.66s\n",
      "         5           1.3591            0.00s\n",
      "0.6354743971\n",
      "      Iter       Train Loss   Remaining Time \n",
      "         1           1.3785            5.13s\n",
      "         2           1.3730            4.63s\n",
      "         3           1.3679            4.12s\n",
      "         4           1.3633            3.55s\n",
      "         5           1.3589            3.15s\n",
      "         6           1.3544            2.58s\n",
      "         7           1.3499            1.89s\n",
      "         8           1.3456            1.24s\n",
      "         9           1.3417            0.61s\n",
      "        10           1.3378            0.00s\n",
      "      Iter       Train Loss   Remaining Time \n",
      "         1           1.3786            5.26s\n",
      "         2           1.3732            4.76s\n",
      "         3           1.3683            4.28s\n",
      "         4           1.3633            3.67s\n",
      "         5           1.3583            3.03s\n",
      "         6           1.3540            2.47s\n",
      "         7           1.3502            1.89s\n",
      "         8           1.3459            1.27s\n",
      "         9           1.3420            0.63s\n",
      "        10           1.3382            0.00s\n",
      "      Iter       Train Loss   Remaining Time \n",
      "         1           1.3780            5.59s\n",
      "         2           1.3723            5.70s\n",
      "         3           1.3673            5.07s\n",
      "         4           1.3627            4.38s\n",
      "         5           1.3578            3.49s\n",
      "         6           1.3535            2.75s\n",
      "         7           1.3492            2.03s\n",
      "         8           1.3450            1.39s\n",
      "         9           1.3409            0.69s\n",
      "        10           1.3371            0.00s\n",
      "      Iter       Train Loss   Remaining Time \n",
      "         1           1.3787            5.63s\n",
      "         2           1.3733            5.41s\n",
      "         3           1.3682            4.71s\n",
      "         4           1.3637            4.04s\n",
      "         5           1.3589            3.29s\n",
      "         6           1.3548            2.76s\n",
      "         7           1.3503            2.05s\n",
      "         8           1.3461            1.33s\n",
      "         9           1.3422            0.66s\n",
      "        10           1.3385            0.00s\n",
      "      Iter       Train Loss   Remaining Time \n",
      "         1           1.3786            6.88s\n",
      "         2           1.3730            5.50s\n",
      "         3           1.3680            5.39s\n",
      "         4           1.3631            4.58s\n",
      "         5           1.3583            3.75s\n",
      "         6           1.3543            2.96s\n",
      "         7           1.3502            2.18s\n",
      "         8           1.3460            1.46s\n",
      "         9           1.3420            0.72s\n",
      "        10           1.3382            0.00s\n",
      "0.665191245708\n",
      "      Iter       Train Loss   Remaining Time \n",
      "         1           1.3788            8.40s\n",
      "         2           1.3731            8.45s\n",
      "         3           1.3681            7.82s\n",
      "         4           1.3636            7.51s\n",
      "         5           1.3589            6.72s\n",
      "         6           1.3546            6.06s\n",
      "         7           1.3502            5.35s\n",
      "         8           1.3458            4.76s\n",
      "         9           1.3417            4.00s\n",
      "        10           1.3381            3.32s\n",
      "      Iter       Train Loss   Remaining Time \n",
      "         1           1.3785            8.27s\n",
      "         2           1.3729            7.56s\n",
      "         3           1.3679            6.93s\n",
      "         4           1.3630            6.39s\n",
      "         5           1.3587            5.79s\n",
      "         6           1.3541            5.13s\n",
      "         7           1.3499            4.51s\n",
      "         8           1.3455            3.92s\n",
      "         9           1.3414            3.34s\n",
      "        10           1.3379            2.81s\n",
      "      Iter       Train Loss   Remaining Time \n",
      "         1           1.3786            8.01s\n",
      "         2           1.3730            7.52s\n",
      "         3           1.3680            7.04s\n",
      "         4           1.3635            6.52s\n",
      "         5           1.3588            5.82s\n",
      "         6           1.3543            5.17s\n",
      "         7           1.3498            4.62s\n",
      "         8           1.3459            4.07s\n",
      "         9           1.3418            3.45s\n",
      "        10           1.3380            2.85s\n",
      "      Iter       Train Loss   Remaining Time \n",
      "         1           1.3785           11.04s\n",
      "         2           1.3728            9.02s\n",
      "         3           1.3679            8.03s\n",
      "         4           1.3634            7.40s\n",
      "         5           1.3589            6.80s\n",
      "         6           1.3543            6.00s\n",
      "         7           1.3499            5.28s\n",
      "         8           1.3457            4.58s\n",
      "         9           1.3417            3.92s\n",
      "        10           1.3379            3.23s\n",
      "      Iter       Train Loss   Remaining Time \n",
      "         1           1.3782            8.01s\n",
      "         2           1.3728            7.66s\n",
      "         3           1.3677            7.12s\n",
      "         4           1.3633            6.57s\n",
      "         5           1.3588            6.03s\n",
      "         6           1.3539            5.40s\n",
      "         7           1.3494            4.87s\n",
      "         8           1.3453            4.25s\n",
      "         9           1.3412            3.65s\n",
      "        10           1.3371            3.05s\n",
      "0.675912732846\n",
      "      Iter       Train Loss   Remaining Time \n",
      "         1           1.3784           11.09s\n",
      "         2           1.3728           10.66s\n",
      "         3           1.3676           10.34s\n",
      "         4           1.3631           10.27s\n",
      "         5           1.3587            9.86s\n",
      "         6           1.3541            9.23s\n",
      "         7           1.3497            8.63s\n",
      "         8           1.3454            7.98s\n",
      "         9           1.3415            7.17s\n",
      "        10           1.3378            6.40s\n",
      "        20           1.3083            0.00s\n",
      "      Iter       Train Loss   Remaining Time \n",
      "         1           1.3786           10.88s\n",
      "         2           1.3732           10.46s\n",
      "         3           1.3683            9.99s\n",
      "         4           1.3630            9.23s\n",
      "         5           1.3580            8.57s\n",
      "         6           1.3537            8.08s\n",
      "         7           1.3493            7.46s\n",
      "         8           1.3457            6.91s\n",
      "         9           1.3418            6.34s\n",
      "        10           1.3377            5.76s\n",
      "        20           1.3076            0.00s\n",
      "      Iter       Train Loss   Remaining Time \n",
      "         1           1.3785           10.87s\n",
      "         2           1.3729           10.43s\n",
      "         3           1.3679           10.00s\n",
      "         4           1.3635            9.48s\n",
      "         5           1.3589            8.99s\n",
      "         6           1.3544            8.30s\n",
      "         7           1.3499            7.60s\n",
      "         8           1.3457            6.95s\n",
      "         9           1.3416            6.31s\n",
      "        10           1.3378            5.83s\n",
      "        20           1.3081            0.00s\n",
      "      Iter       Train Loss   Remaining Time \n",
      "         1           1.3783           12.89s\n",
      "         2           1.3727           12.02s\n",
      "         3           1.3677           10.87s\n",
      "         4           1.3633            9.98s\n",
      "         5           1.3591            9.32s\n",
      "         6           1.3545            8.53s\n",
      "         7           1.3500            7.78s\n",
      "         8           1.3458            7.09s\n",
      "         9           1.3417            6.47s\n",
      "        10           1.3379            5.82s\n",
      "        20           1.3082            0.00s\n",
      "      Iter       Train Loss   Remaining Time \n",
      "         1           1.3787           11.76s\n",
      "         2           1.3731           10.81s\n",
      "         3           1.3680           10.47s\n",
      "         4           1.3636            9.66s\n",
      "         5           1.3591            9.04s\n",
      "         6           1.3546            8.23s\n",
      "         7           1.3500            7.56s\n",
      "         8           1.3457            6.88s\n",
      "         9           1.3417            6.34s\n",
      "        10           1.3378            5.81s\n",
      "        20           1.3080            0.00s\n",
      "0.682360352256\n",
      "      Iter       Train Loss   Remaining Time \n",
      "         1           1.3784           19.91s\n",
      "         2           1.3730           18.62s\n",
      "         3           1.3680           18.86s\n",
      "         4           1.3634           17.84s\n",
      "         5           1.3586           16.24s\n",
      "         6           1.3543           15.08s\n",
      "         7           1.3500           14.48s\n",
      "         8           1.3456           14.14s\n",
      "         9           1.3416           13.30s\n",
      "        10           1.3377           12.65s\n",
      "        20           1.3077            3.77s\n",
      "      Iter       Train Loss   Remaining Time \n",
      "         1           1.3781           13.25s\n",
      "         2           1.3726           12.88s\n",
      "         3           1.3674           12.33s\n",
      "         4           1.3629           11.88s\n",
      "         5           1.3579           11.21s\n",
      "         6           1.3537           10.69s\n",
      "         7           1.3492           10.02s\n",
      "         8           1.3449            9.40s\n",
      "         9           1.3409            8.77s\n",
      "        10           1.3371            8.18s\n",
      "        20           1.3071            2.82s\n",
      "      Iter       Train Loss   Remaining Time \n",
      "         1           1.3787           13.32s\n",
      "         2           1.3732           12.73s\n",
      "         3           1.3682           12.19s\n",
      "         4           1.3636           11.63s\n",
      "         5           1.3591           11.12s\n",
      "         6           1.3544           10.37s\n",
      "         7           1.3499            9.75s\n",
      "         8           1.3460            9.09s\n",
      "         9           1.3419            8.50s\n",
      "        10           1.3381            7.89s\n",
      "        20           1.3084            2.63s\n",
      "      Iter       Train Loss   Remaining Time \n",
      "         1           1.3787           13.43s\n",
      "         2           1.3731           13.13s\n",
      "         3           1.3682           12.54s\n",
      "         4           1.3638           11.99s\n",
      "         5           1.3590           12.03s\n",
      "         6           1.3550           11.66s\n",
      "         7           1.3504           10.99s\n",
      "         8           1.3461           10.34s\n",
      "         9           1.3421            9.59s\n",
      "        10           1.3383            8.90s\n",
      "        20           1.3086            3.03s\n",
      "      Iter       Train Loss   Remaining Time \n",
      "         1           1.3785           13.56s\n",
      "         2           1.3730           13.82s\n",
      "         3           1.3681           13.78s\n",
      "         4           1.3635           13.56s\n",
      "         5           1.3591           13.21s\n",
      "         6           1.3543           12.26s\n",
      "         7           1.3499           11.42s\n",
      "         8           1.3458           10.70s\n",
      "         9           1.3418            9.90s\n",
      "        10           1.3379            9.17s\n",
      "        20           1.3082            3.01s\n",
      "0.687098421171\n",
      "      Iter       Train Loss   Remaining Time \n",
      "         1           1.3785           18.87s\n",
      "         2           1.3728           17.52s\n",
      "         3           1.3677           16.53s\n",
      "         4           1.3632           15.78s\n",
      "         5           1.3588           15.35s\n",
      "         6           1.3542           14.69s\n",
      "         7           1.3497           14.02s\n",
      "         8           1.3456           13.29s\n",
      "         9           1.3415           12.61s\n",
      "        10           1.3380           12.23s\n",
      "        20           1.3084            5.84s\n",
      "        30           1.2882            0.00s\n",
      "      Iter       Train Loss   Remaining Time \n",
      "         1           1.3787           16.88s\n",
      "         2           1.3732           16.63s\n",
      "         3           1.3682           16.19s\n",
      "         4           1.3638           15.67s\n",
      "         5           1.3590           14.86s\n",
      "         6           1.3548           14.38s\n",
      "         7           1.3502           13.72s\n",
      "         8           1.3461           13.02s\n",
      "         9           1.3421           12.36s\n",
      "        10           1.3385           11.73s\n",
      "        20           1.3090            5.68s\n",
      "        30           1.2889            0.00s\n",
      "      Iter       Train Loss   Remaining Time \n",
      "         1           1.3781           16.77s\n",
      "         2           1.3725           16.72s\n",
      "         3           1.3673           16.35s\n",
      "         4           1.3627           16.52s\n",
      "         5           1.3582           16.79s\n",
      "         6           1.3536           15.77s\n",
      "         7           1.3492           14.82s\n",
      "         8           1.3447           13.82s\n",
      "         9           1.3408           12.93s\n",
      "        10           1.3370           12.08s\n",
      "        20           1.3069            5.76s\n",
      "        30           1.2869            0.00s\n",
      "      Iter       Train Loss   Remaining Time \n",
      "         1           1.3786           16.06s\n",
      "         2           1.3731           15.44s\n",
      "         3           1.3680           14.81s\n",
      "         4           1.3634           14.23s\n",
      "         5           1.3591           14.02s\n",
      "         6           1.3545           13.87s\n",
      "         7           1.3499           13.19s\n",
      "         8           1.3456           12.80s\n",
      "         9           1.3415           12.31s\n",
      "        10           1.3376           11.67s\n",
      "        20           1.3078            5.46s\n",
      "        30           1.2870            0.00s\n",
      "      Iter       Train Loss   Remaining Time \n",
      "         1           1.3787           16.88s\n",
      "         2           1.3732           16.41s\n",
      "         3           1.3683           15.82s\n",
      "         4           1.3639           15.25s\n",
      "         5           1.3595           14.91s\n",
      "         6           1.3549           14.01s\n",
      "         7           1.3504           13.32s\n",
      "         8           1.3462           12.71s\n",
      "         9           1.3423           12.07s\n",
      "        10           1.3383           11.71s\n",
      "        20           1.3085            5.86s\n",
      "        30           1.2884            0.00s\n",
      "0.690048468471\n",
      "      Iter       Train Loss   Remaining Time \n",
      "         1           1.3785           33.72s\n",
      "         2           1.3730           34.41s\n",
      "         3           1.3680           33.15s\n",
      "         4           1.3635           31.56s\n",
      "         5           1.3588           29.39s\n",
      "         6           1.3546           28.34s\n",
      "         7           1.3501           26.81s\n",
      "         8           1.3459           25.73s\n",
      "         9           1.3420           24.62s\n",
      "        10           1.3381           23.78s\n",
      "        20           1.3088           16.89s\n",
      "        30           1.2884           11.13s\n",
      "        40           1.2743            5.49s\n",
      "        50           1.2631            0.00s\n",
      "      Iter       Train Loss   Remaining Time \n",
      "         1           1.3788           27.88s\n",
      "         2           1.3732           27.59s\n",
      "         3           1.3682           27.03s\n",
      "         4           1.3639           26.60s\n",
      "         5           1.3592           25.66s\n",
      "         6           1.3550           25.27s\n",
      "         7           1.3505           24.32s\n",
      "         8           1.3464           23.90s\n",
      "         9           1.3424           23.39s\n",
      "        10           1.3387           22.81s\n",
      "        20           1.3090           17.14s\n",
      "        30           1.2890           11.29s\n",
      "        40           1.2740            5.65s\n",
      "        50           1.2628            0.00s\n",
      "      Iter       Train Loss   Remaining Time \n",
      "         1           1.3787           36.06s\n",
      "         2           1.3731           33.86s\n",
      "         3           1.3681           32.23s\n",
      "         4           1.3634           30.60s\n",
      "         5           1.3592           29.39s\n",
      "         6           1.3546           27.84s\n",
      "         7           1.3501           27.54s\n",
      "         8           1.3459           27.10s\n",
      "         9           1.3421           25.90s\n",
      "        10           1.3382           24.94s\n",
      "        20           1.3080           18.41s\n",
      "        30           1.2876           11.78s\n",
      "        40           1.2728            5.78s\n",
      "        50           1.2616            0.00s\n",
      "      Iter       Train Loss   Remaining Time \n",
      "         1           1.3783           29.29s\n",
      "         2           1.3726           28.92s\n",
      "         3           1.3676           28.48s\n",
      "         4           1.3631           27.70s\n",
      "         5           1.3583           26.52s\n",
      "         6           1.3538           25.46s\n",
      "         7           1.3493           24.45s\n",
      "         8           1.3454           24.04s\n",
      "         9           1.3412           23.46s\n",
      "        10           1.3375           22.99s\n",
      "        20           1.3076           17.84s\n",
      "        30           1.2876           11.93s\n",
      "        40           1.2729            6.07s\n",
      "        50           1.2618            0.00s\n",
      "      Iter       Train Loss   Remaining Time \n",
      "         1           1.3782           31.66s\n",
      "         2           1.3726           32.33s\n",
      "         3           1.3677           30.94s\n",
      "         4           1.3631           29.10s\n",
      "         5           1.3582           27.22s\n",
      "         6           1.3535           25.92s\n",
      "         7           1.3494           25.58s\n",
      "         8           1.3451           24.48s\n",
      "         9           1.3412           23.44s\n",
      "        10           1.3372           22.70s\n",
      "        20           1.3068           16.93s\n",
      "        30           1.2868           11.24s\n",
      "        40           1.2716            5.70s\n",
      "        50           1.2605            0.00s\n",
      "0.697723295466\n"
     ]
    }
   ],
   "source": [
    "for t in trees:\n",
    "    gbm = GradientBoostingClassifier(n_estimators=t,verbose=True)\n",
    "    score = np.mean(cross_val_score(gbm, X, y, scoring='roc_auc', cv=kf))\n",
    "    print(score)"
   ]
  },
  {
   "cell_type": "markdown",
   "metadata": {},
   "source": [
    "Measure time for 30 trees"
   ]
  },
  {
   "cell_type": "code",
   "execution_count": 16,
   "metadata": {
    "collapsed": false
   },
   "outputs": [
    {
     "name": "stdout",
     "output_type": "stream",
     "text": [
      "      Iter       Train Loss   Remaining Time \n",
      "         1           1.3787           17.27s\n",
      "         2           1.3732           16.94s\n",
      "         3           1.3682           16.64s\n",
      "         4           1.3638           16.17s\n",
      "         5           1.3594           15.72s\n",
      "         6           1.3546           15.04s\n",
      "         7           1.3503           14.24s\n",
      "         8           1.3462           13.45s\n",
      "         9           1.3419           12.80s\n",
      "        10           1.3381           12.12s\n",
      "        20           1.3085            5.82s\n",
      "        30           1.2885            0.00s\n",
      "      Iter       Train Loss   Remaining Time \n",
      "         1           1.3785           16.95s\n",
      "         2           1.3729           16.56s\n",
      "         3           1.3680           16.15s\n",
      "         4           1.3635           15.58s\n",
      "         5           1.3587           14.86s\n",
      "         6           1.3541           14.21s\n",
      "         7           1.3501           13.92s\n",
      "         8           1.3458           13.25s\n",
      "         9           1.3419           12.54s\n",
      "        10           1.3382           11.83s\n",
      "        20           1.3082            5.75s\n",
      "        30           1.2885            0.00s\n",
      "      Iter       Train Loss   Remaining Time \n",
      "         1           1.3783           18.60s\n",
      "         2           1.3727           17.54s\n",
      "         3           1.3676           16.98s\n",
      "         4           1.3631           16.26s\n",
      "         5           1.3586           16.13s\n",
      "         6           1.3541           15.76s\n",
      "         7           1.3495           15.23s\n",
      "         8           1.3452           14.55s\n",
      "         9           1.3412           13.74s\n",
      "        10           1.3373           13.07s\n",
      "        20           1.3077            6.28s\n",
      "        30           1.2875            0.00s\n",
      "      Iter       Train Loss   Remaining Time \n",
      "         1           1.3787           16.85s\n",
      "         2           1.3731           16.40s\n",
      "         3           1.3682           16.09s\n",
      "         4           1.3637           15.54s\n",
      "         5           1.3592           15.02s\n",
      "         6           1.3543           14.25s\n",
      "         7           1.3499           13.47s\n",
      "         8           1.3457           12.81s\n",
      "         9           1.3415           12.26s\n",
      "        10           1.3377           11.67s\n",
      "        20           1.3074            5.64s\n",
      "        30           1.2871            0.00s\n",
      "      Iter       Train Loss   Remaining Time \n",
      "         1           1.3783           16.64s\n",
      "         2           1.3727           16.47s\n",
      "         3           1.3676           16.08s\n",
      "         4           1.3631           15.68s\n",
      "         5           1.3583           15.16s\n",
      "         6           1.3541           14.57s\n",
      "         7           1.3499           13.82s\n",
      "         8           1.3455           13.11s\n",
      "         9           1.3413           12.53s\n",
      "        10           1.3375           11.87s\n",
      "        20           1.3078            5.99s\n",
      "        30           1.2876            0.00s\n",
      "0.689153321045\n",
      "Time elapsed: 0:01:32.208095\n"
     ]
    }
   ],
   "source": [
    "import time\n",
    "import datetime\n",
    "\n",
    "start_time = datetime.datetime.now()\n",
    "\n",
    "gbm = GradientBoostingClassifier(n_estimators=30,verbose=True)\n",
    "score = np.mean(cross_val_score(gbm, X, y, scoring='roc_auc', cv=kf))\n",
    "print(score)\n",
    "\n",
    "print 'Time elapsed:', datetime.datetime.now() - start_time"
   ]
  },
  {
   "cell_type": "markdown",
   "metadata": {},
   "source": [
    "Model 2: Logistic Regression Classifier"
   ]
  },
  {
   "cell_type": "code",
   "execution_count": 18,
   "metadata": {
    "collapsed": true
   },
   "outputs": [],
   "source": [
    "Xstd = StandardScaler().fit_transform(X)"
   ]
  },
  {
   "cell_type": "code",
   "execution_count": 19,
   "metadata": {
    "collapsed": true
   },
   "outputs": [],
   "source": [
    "Cvalues = [0.001, 0.01, 0.1, 1, 10, 100, 1000] "
   ]
  },
  {
   "cell_type": "code",
   "execution_count": 20,
   "metadata": {
    "collapsed": false
   },
   "outputs": [
    {
     "name": "stdout",
     "output_type": "stream",
     "text": [
      "C is 0.001\n",
      "0.716127903798\n",
      "C is 0.01\n",
      "0.716361152102\n",
      "C is 0.1\n",
      "0.716281649488\n",
      "C is 1\n",
      "0.716452998587\n",
      "C is 10\n",
      "0.716485372928\n",
      "C is 100\n",
      "0.716414660912\n",
      "C is 1000\n",
      "0.71637882822\n"
     ]
    }
   ],
   "source": [
    "for v in Cvalues:\n",
    "    logit = LogisticRegression(C=v)\n",
    "    logit.fit(Xstd, y)\n",
    "    print('C is '+str(v))\n",
    "    score = np.mean(cross_val_score(logit, Xstd, y, scoring='roc_auc', cv=kf))\n",
    "    print(score)"
   ]
  },
  {
   "cell_type": "markdown",
   "metadata": {},
   "source": [
    "Deleting Categorical Features"
   ]
  },
  {
   "cell_type": "code",
   "execution_count": 21,
   "metadata": {
    "collapsed": true
   },
   "outputs": [],
   "source": [
    "categorical = ['lobby_type','r1_hero', 'r2_hero','r3_hero','r4_hero','r5_hero', 'd1_hero', 'd2_hero','d3_hero','d4_hero','d5_hero']"
   ]
  },
  {
   "cell_type": "code",
   "execution_count": 22,
   "metadata": {
    "collapsed": true
   },
   "outputs": [],
   "source": [
    "newX = X.copy()\n",
    "for var in categorical:\n",
    "    newX=newX.loc[:,newX.columns!=var]"
   ]
  },
  {
   "cell_type": "code",
   "execution_count": 23,
   "metadata": {
    "collapsed": true
   },
   "outputs": [],
   "source": [
    "newXstd = StandardScaler().fit_transform(newX)"
   ]
  },
  {
   "cell_type": "markdown",
   "metadata": {},
   "source": [
    "Logistic Regression trained on new X"
   ]
  },
  {
   "cell_type": "code",
   "execution_count": 24,
   "metadata": {
    "collapsed": false
   },
   "outputs": [
    {
     "name": "stdout",
     "output_type": "stream",
     "text": [
      "C is 0.001\n",
      "0.71648597506\n",
      "C is 0.01\n",
      "0.716497728884\n",
      "C is 0.1\n",
      "0.716355588333\n",
      "C is 1\n",
      "0.716389887871\n",
      "C is 10\n",
      "0.716439873022\n",
      "C is 100\n",
      "0.71646889065\n",
      "C is 1000\n",
      "0.716514323097\n"
     ]
    }
   ],
   "source": [
    "for v in Cvalues:\n",
    "    logit = LogisticRegression(C=v)\n",
    "    logit.fit(Xstd, y)\n",
    "    print('C is '+str(v))\n",
    "    score = np.mean(cross_val_score(logit, newXstd, y, scoring='roc_auc', cv=kf))\n",
    "    print(score)"
   ]
  },
  {
   "cell_type": "markdown",
   "metadata": {},
   "source": [
    "Counting Unique Heroes"
   ]
  },
  {
   "cell_type": "code",
   "execution_count": 34,
   "metadata": {
    "collapsed": false
   },
   "outputs": [
    {
     "data": {
      "text/plain": [
       "array([  1,   2,   3,   4,   5,   6,   7,   8,   9,  10,  11,  12,  13,\n",
       "        14,  15,  16,  17,  18,  19,  20,  21,  22,  23,  25,  26,  27,\n",
       "        28,  29,  30,  31,  32,  33,  34,  35,  36,  37,  38,  39,  40,\n",
       "        41,  42,  43,  44,  45,  46,  47,  48,  49,  50,  51,  52,  53,\n",
       "        54,  55,  56,  57,  58,  59,  60,  61,  62,  63,  64,  65,  66,\n",
       "        67,  68,  69,  70,  71,  72,  73,  74,  75,  76,  77,  78,  79,\n",
       "        80,  81,  82,  83,  84,  85,  86,  87,  88,  89,  90,  91,  92,\n",
       "        93,  94,  95,  96,  97,  98,  99, 100, 101, 102, 103, 104, 105,\n",
       "       106, 109, 110, 112])"
      ]
     },
     "execution_count": 34,
     "metadata": {},
     "output_type": "execute_result"
    }
   ],
   "source": [
    "allheroes = X['r1_hero']\n",
    "other = ['r2_hero','r3_hero','r4_hero','r5_hero', 'd1_hero', 'd2_hero','d3_hero','d4_hero','d5_hero']\n",
    "for var in other:\n",
    "    allheroes = np.hstack((allheroes, X[var]))\n",
    "np.unique(allheroes)"
   ]
  },
  {
   "cell_type": "code",
   "execution_count": 29,
   "metadata": {
    "collapsed": false
   },
   "outputs": [
    {
     "data": {
      "text/plain": [
       "112"
      ]
     },
     "execution_count": 29,
     "metadata": {},
     "output_type": "execute_result"
    }
   ],
   "source": [
    "np.unique(allheroes).max()"
   ]
  },
  {
   "cell_type": "code",
   "execution_count": 46,
   "metadata": {
    "collapsed": false
   },
   "outputs": [
    {
     "data": {
      "text/plain": [
       "108"
      ]
     },
     "execution_count": 46,
     "metadata": {},
     "output_type": "execute_result"
    }
   ],
   "source": [
    "len(np.unique(allheroes))"
   ]
  },
  {
   "cell_type": "code",
   "execution_count": 47,
   "metadata": {
    "collapsed": true
   },
   "outputs": [],
   "source": [
    "N = np.unique(allheroes).max()"
   ]
  },
  {
   "cell_type": "markdown",
   "metadata": {},
   "source": [
    "Logistic Regression with Heroes IDs recoded"
   ]
  },
  {
   "cell_type": "code",
   "execution_count": 48,
   "metadata": {
    "collapsed": true
   },
   "outputs": [],
   "source": [
    "X_pick = np.zeros((X.shape[0], N))\n",
    "for i, match_id in enumerate(X.index):\n",
    "    for p in xrange(5):\n",
    "        X_pick[i, X.ix[match_id, 'r%d_hero' % (p+1)]-1] = 1\n",
    "        X_pick[i, X.ix[match_id, 'd%d_hero' % (p+1)]-1] = -1"
   ]
  },
  {
   "cell_type": "code",
   "execution_count": 49,
   "metadata": {
    "collapsed": true
   },
   "outputs": [],
   "source": [
    "Xplus = np.hstack((newXstd,X_pick))"
   ]
  },
  {
   "cell_type": "code",
   "execution_count": 50,
   "metadata": {
    "collapsed": false
   },
   "outputs": [
    {
     "name": "stdout",
     "output_type": "stream",
     "text": [
      "C is 0.001\n",
      "0.746197513009\n",
      "C is 0.01\n",
      "0.751624091277\n",
      "C is 0.1\n",
      "0.751767297531\n",
      "C is 1\n",
      "0.751688106664\n",
      "C is 10\n",
      "0.751861752586\n",
      "C is 100\n",
      "0.751802703829\n",
      "C is 1000\n",
      "0.75183624217\n"
     ]
    }
   ],
   "source": [
    "for v in Cvalues:\n",
    "    logit = LogisticRegression(C=v)\n",
    "    logit.fit(Xplus, y)\n",
    "    print('C is '+str(v))\n",
    "    score = np.mean(cross_val_score(logit, Xplus, y, scoring='roc_auc', cv=kf))\n",
    "    print(score)"
   ]
  },
  {
   "cell_type": "code",
   "execution_count": 51,
   "metadata": {
    "collapsed": true
   },
   "outputs": [],
   "source": [
    "# The best model is the last one, with C = 10"
   ]
  },
  {
   "cell_type": "markdown",
   "metadata": {},
   "source": [
    "Building Predictions for Test Data"
   ]
  },
  {
   "cell_type": "code",
   "execution_count": 53,
   "metadata": {
    "collapsed": false
   },
   "outputs": [],
   "source": [
    "test_data.fillna(0, inplace=True)    \n",
    "newtest = test_data.copy()\n",
    "for var in categorical:\n",
    "    newtest=newtest.loc[:,newtest.columns!=var]\n",
    "newteststd = StandardScaler().fit_transform(newtest)"
   ]
  },
  {
   "cell_type": "code",
   "execution_count": 54,
   "metadata": {
    "collapsed": true
   },
   "outputs": [],
   "source": [
    "test_pick = np.zeros((test_data.shape[0], N))\n",
    "for i, match_id in enumerate(test_data.index):\n",
    "    for p in xrange(5):\n",
    "        test_pick[i, test_data.ix[match_id, 'r%d_hero' % (p+1)]-1] = 1\n",
    "        test_pick[i, test_data.ix[match_id, 'd%d_hero' % (p+1)]-1] = -1"
   ]
  },
  {
   "cell_type": "code",
   "execution_count": 55,
   "metadata": {
    "collapsed": true
   },
   "outputs": [],
   "source": [
    "testplus = np.hstack((newteststd ,test_pick))"
   ]
  },
  {
   "cell_type": "code",
   "execution_count": 56,
   "metadata": {
    "collapsed": true
   },
   "outputs": [],
   "source": [
    "logit = LogisticRegression(C=10)\n",
    "logit.fit(Xplus, y)\n",
    "test_data[\"predicted\"]=logit.predict_proba(testplus)[:,1]"
   ]
  },
  {
   "cell_type": "code",
   "execution_count": 57,
   "metadata": {
    "collapsed": false
   },
   "outputs": [
    {
     "data": {
      "text/plain": [
       "match_id\n",
       "6         0.825778\n",
       "7         0.758760\n",
       "10        0.186977\n",
       "13        0.861085\n",
       "16        0.239727\n",
       "18        0.378841\n",
       "19        0.529665\n",
       "24        0.565862\n",
       "33        0.215163\n",
       "37        0.674097\n",
       "41        0.154910\n",
       "42        0.326742\n",
       "55        0.231960\n",
       "60        0.673145\n",
       "62        0.554989\n",
       "63        0.612092\n",
       "64        0.088299\n",
       "71        0.554179\n",
       "72        0.316118\n",
       "83        0.500696\n",
       "85        0.783005\n",
       "89        0.930880\n",
       "92        0.757268\n",
       "100       0.959741\n",
       "102       0.884724\n",
       "108       0.537060\n",
       "111       0.775833\n",
       "126       0.181362\n",
       "130       0.051853\n",
       "140       0.790707\n",
       "            ...   \n",
       "114165    0.813820\n",
       "114168    0.666934\n",
       "114171    0.463057\n",
       "114183    0.145547\n",
       "114188    0.633010\n",
       "114192    0.841987\n",
       "114195    0.515675\n",
       "114202    0.477959\n",
       "114209    0.384252\n",
       "114211    0.808393\n",
       "114217    0.755161\n",
       "114232    0.385117\n",
       "114236    0.500069\n",
       "114238    0.664195\n",
       "114242    0.581018\n",
       "114247    0.288299\n",
       "114285    0.255999\n",
       "114286    0.410673\n",
       "114314    0.536098\n",
       "114327    0.480521\n",
       "114330    0.413029\n",
       "114337    0.336167\n",
       "114348    0.174872\n",
       "114349    0.597106\n",
       "114361    0.317456\n",
       "114369    0.720692\n",
       "114377    0.633423\n",
       "114378    0.234751\n",
       "114393    0.628819\n",
       "114398    0.425450\n",
       "Name: predicted, dtype: float64"
      ]
     },
     "execution_count": 57,
     "metadata": {},
     "output_type": "execute_result"
    }
   ],
   "source": [
    "test_data['predicted']"
   ]
  },
  {
   "cell_type": "code",
   "execution_count": 59,
   "metadata": {
    "collapsed": true
   },
   "outputs": [],
   "source": [
    "test_data['predicted'].to_csv(\"output.csv\")"
   ]
  },
  {
   "cell_type": "code",
   "execution_count": 60,
   "metadata": {
    "collapsed": false
   },
   "outputs": [
    {
     "data": {
      "text/plain": [
       "0.0086170028517682865"
      ]
     },
     "execution_count": 60,
     "metadata": {},
     "output_type": "execute_result"
    }
   ],
   "source": [
    "test_data['predicted'].min()"
   ]
  },
  {
   "cell_type": "code",
   "execution_count": 62,
   "metadata": {
    "collapsed": false
   },
   "outputs": [
    {
     "data": {
      "text/plain": [
       "0.9965172470351864"
      ]
     },
     "execution_count": 62,
     "metadata": {},
     "output_type": "execute_result"
    }
   ],
   "source": [
    "test_data['predicted'].max()"
   ]
  }
 ],
 "metadata": {
  "anaconda-cloud": {},
  "kernelspec": {
   "display_name": "Python [Root]",
   "language": "python",
   "name": "Python [Root]"
  },
  "language_info": {
   "codemirror_mode": {
    "name": "ipython",
    "version": 2
   },
   "file_extension": ".py",
   "mimetype": "text/x-python",
   "name": "python",
   "nbconvert_exporter": "python",
   "pygments_lexer": "ipython2",
   "version": "2.7.12"
  }
 },
 "nbformat": 4,
 "nbformat_minor": 0
}
