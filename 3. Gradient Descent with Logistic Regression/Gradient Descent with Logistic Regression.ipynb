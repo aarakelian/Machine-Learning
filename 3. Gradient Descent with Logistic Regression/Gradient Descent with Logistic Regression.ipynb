{
 "cells": [
  {
   "cell_type": "code",
   "execution_count": 1,
   "metadata": {
    "collapsed": true
   },
   "outputs": [],
   "source": [
    "import pandas as pd\n",
    "import numpy as np\n",
    "from __future__ import division\n",
    "from scipy.spatial import distance"
   ]
  },
  {
   "cell_type": "code",
   "execution_count": 2,
   "metadata": {
    "collapsed": false
   },
   "outputs": [],
   "source": [
    "data = pd.read_csv('data-logistic.csv', header=None)"
   ]
  },
  {
   "cell_type": "code",
   "execution_count": 3,
   "metadata": {
    "collapsed": true
   },
   "outputs": [],
   "source": [
    "X = data.iloc[:, 1:].values\n",
    "y = data.iloc[:, 0].values"
   ]
  },
  {
   "cell_type": "code",
   "execution_count": 4,
   "metadata": {
    "collapsed": false
   },
   "outputs": [
    {
     "name": "stdout",
     "output_type": "stream",
     "text": [
      "205\n",
      "2\n"
     ]
    }
   ],
   "source": [
    "print X.shape[0]\n",
    "print X.shape[1]"
   ]
  },
  {
   "cell_type": "code",
   "execution_count": 5,
   "metadata": {
    "collapsed": false
   },
   "outputs": [],
   "source": [
    "w = np.zeros(2)\n",
    "new_w = np.zeros(2)\n",
    "k = 0.1\n",
    "C = 10"
   ]
  },
  {
   "cell_type": "markdown",
   "metadata": {},
   "source": [
    "With Regularization"
   ]
  },
  {
   "cell_type": "code",
   "execution_count": 6,
   "metadata": {
    "collapsed": false
   },
   "outputs": [
    {
     "name": "stdout",
     "output_type": "stream",
     "text": [
      "[ 0.02855875  0.02478014]\n"
     ]
    }
   ],
   "source": [
    "for iteration in range(10000):\n",
    "    w = np.copy(new_w)\n",
    "    for i in range(2):\n",
    "        sum = 0\n",
    "        for j in range(205):\n",
    "            sum += y[j] * X[j, i] * (1 - 1/(1 + np.exp(-y[j] * np.dot(w, X[j]))))\n",
    "        new_w[i] = w[i] + k * (1/205)*sum - k * C * w[i]\n",
    "    if distance.euclidean(w, new_w) < 0.00001:\n",
    "        break\n",
    "        \n",
    "print new_w\n",
    "answer_reg = np.copy(new_w)"
   ]
  },
  {
   "cell_type": "markdown",
   "metadata": {},
   "source": [
    "Without Regularization"
   ]
  },
  {
   "cell_type": "code",
   "execution_count": 7,
   "metadata": {
    "collapsed": false
   },
   "outputs": [
    {
     "name": "stdout",
     "output_type": "stream",
     "text": [
      "[ 0.28781181  0.09198312]\n"
     ]
    }
   ],
   "source": [
    "for iteration in range(10000):\n",
    "    w = np.copy(new_w)\n",
    "    for i in range(2):\n",
    "        sum = 0\n",
    "        for j in range(205):\n",
    "            sum += y[j] * X[j, i] * (1 - 1/(1 + np.exp(-y[j] * np.dot(w, X[j]))))\n",
    "        new_w[i] = w[i] + k * (1/205)*sum\n",
    "    if distance.euclidean(w, new_w) < 0.00001:\n",
    "        break\n",
    "        \n",
    "print new_w\n",
    "answer_noreg = np.copy(new_w)"
   ]
  },
  {
   "cell_type": "code",
   "execution_count": 8,
   "metadata": {
    "collapsed": false
   },
   "outputs": [],
   "source": [
    "predicted = 1/(1+ np.exp(- answer_reg[0]*X[:,0] - answer_reg[1]*X[:,1]))"
   ]
  },
  {
   "cell_type": "code",
   "execution_count": 9,
   "metadata": {
    "collapsed": false
   },
   "outputs": [],
   "source": [
    "predicted2 = 1/(1+ np.exp(- answer_noreg[0]*X[:,0] - answer_noreg[1]*X[:,1]))"
   ]
  },
  {
   "cell_type": "code",
   "execution_count": 10,
   "metadata": {
    "collapsed": false
   },
   "outputs": [
    {
     "name": "stdout",
     "output_type": "stream",
     "text": [
      "0.936285714286\n",
      "0.926857142857\n"
     ]
    }
   ],
   "source": [
    "from sklearn.metrics import roc_auc_score\n",
    "print roc_auc_score(y, predicted)\n",
    "print roc_auc_score(y, predicted2)"
   ]
  }
 ],
 "metadata": {
  "anaconda-cloud": {},
  "kernelspec": {
   "display_name": "Python [Root]",
   "language": "python",
   "name": "Python [Root]"
  },
  "language_info": {
   "codemirror_mode": {
    "name": "ipython",
    "version": 2
   },
   "file_extension": ".py",
   "mimetype": "text/x-python",
   "name": "python",
   "nbconvert_exporter": "python",
   "pygments_lexer": "ipython2",
   "version": "2.7.12"
  }
 },
 "nbformat": 4,
 "nbformat_minor": 0
}
